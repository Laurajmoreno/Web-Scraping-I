{
 "cells": [
  {
   "cell_type": "markdown",
   "metadata": {},
   "source": [
    "# Web Scraping I - Data formatted as a table\n",
    "\n",
    "## Brief\n",
    "\n",
    "Web Scraping allows us to extract data available on web sites.\n",
    "Technically, it consists of reading and parsing the html code and then extracting the elements that are valuable to us. Basically, we transform the html input into an appropriate data structure to be processed.\n",
    "One of the easiest cases and the one that we will deal with in this practice is the data already formatted as tables.\n",
    "As an example, we will use the 'List of accidents and disasters by death toll' from Wikipedia and more specifically the table related to explosions. Clarification: This list does not include bombings, aviation incidents, or mining disasters.\n",
    "Link: https://en.wikipedia.org/wiki/List_of_accidents_and_disasters_by_death_toll"
   ]
  },
  {
   "cell_type": "markdown",
   "metadata": {},
   "source": [
    "## Import libraries"
   ]
  },
  {
   "cell_type": "code",
   "execution_count": 87,
   "metadata": {},
   "outputs": [],
   "source": [
    "import pandas as pd\n",
    "import numpy as np\n",
    "import matplotlib.pyplot as plt\n",
    "plt.style.use('seaborn')\n",
    "%matplotlib inline"
   ]
  },
  {
   "cell_type": "markdown",
   "metadata": {},
   "source": [
    "## Import  and loading data"
   ]
  },
  {
   "cell_type": "code",
   "execution_count": 88,
   "metadata": {},
   "outputs": [],
   "source": [
    "tables = pd.read_html(\"https://en.wikipedia.org/wiki/List_of_accidents_and_disasters_by_death_toll\")\n",
    "explosions = tables[4]"
   ]
  },
  {
   "cell_type": "markdown",
   "metadata": {},
   "source": [
    "## Data overview"
   ]
  },
  {
   "cell_type": "code",
   "execution_count": 89,
   "metadata": {},
   "outputs": [
    {
     "data": {
      "text/html": [
       "<div>\n",
       "<style scoped>\n",
       "    .dataframe tbody tr th:only-of-type {\n",
       "        vertical-align: middle;\n",
       "    }\n",
       "\n",
       "    .dataframe tbody tr th {\n",
       "        vertical-align: top;\n",
       "    }\n",
       "\n",
       "    .dataframe thead th {\n",
       "        text-align: right;\n",
       "    }\n",
       "</style>\n",
       "<table border=\"1\" class=\"dataframe\">\n",
       "  <thead>\n",
       "    <tr style=\"text-align: right;\">\n",
       "      <th></th>\n",
       "      <th>Deaths</th>\n",
       "      <th>Date</th>\n",
       "      <th>Incident</th>\n",
       "    </tr>\n",
       "  </thead>\n",
       "  <tbody>\n",
       "    <tr>\n",
       "      <th>0</th>\n",
       "      <td>20000</td>\n",
       "      <td>30 May 1626</td>\n",
       "      <td>Wanggongchang Explosion in Beijing, China in t...</td>\n",
       "    </tr>\n",
       "    <tr>\n",
       "      <th>1</th>\n",
       "      <td>3000</td>\n",
       "      <td>18 August 1769</td>\n",
       "      <td>A lightning bolt caused the Brescia explosion ...</td>\n",
       "    </tr>\n",
       "    <tr>\n",
       "      <th>2</th>\n",
       "      <td>3,000?</td>\n",
       "      <td>1 November 1948</td>\n",
       "      <td>Boiler and ammunition explosion aboard an unid...</td>\n",
       "    </tr>\n",
       "    <tr>\n",
       "      <th>3</th>\n",
       "      <td>1,400–2,280</td>\n",
       "      <td>6 March 1862</td>\n",
       "      <td>Ammunition warehouse explodes and kills almost...</td>\n",
       "    </tr>\n",
       "    <tr>\n",
       "      <th>4</th>\n",
       "      <td>1950</td>\n",
       "      <td>6 December 1917</td>\n",
       "      <td>Halifax Explosion in Nova Scotia, Canada[68]</td>\n",
       "    </tr>\n",
       "    <tr>\n",
       "      <th>5</th>\n",
       "      <td>1500</td>\n",
       "      <td>8 June 1941</td>\n",
       "      <td>Ammunition plant with facilities explode at Sm...</td>\n",
       "    </tr>\n",
       "    <tr>\n",
       "      <th>6</th>\n",
       "      <td>256–1,500+</td>\n",
       "      <td>September 1732</td>\n",
       "      <td>Military warehouse explodes and kills up to tw...</td>\n",
       "    </tr>\n",
       "    <tr>\n",
       "      <th>7</th>\n",
       "      <td>1,300+</td>\n",
       "      <td>7 August 1956</td>\n",
       "      <td>Ammunition trucks explode near a railway stati...</td>\n",
       "    </tr>\n",
       "    <tr>\n",
       "      <th>8</th>\n",
       "      <td>1200</td>\n",
       "      <td>16 October 1926</td>\n",
       "      <td>Explosion of ammunition on the Chinese troopsh...</td>\n",
       "    </tr>\n",
       "    <tr>\n",
       "      <th>9</th>\n",
       "      <td>1121</td>\n",
       "      <td>8 June 1943</td>\n",
       "      <td>Japanese battleship Mutsu, at Hashirajima harb...</td>\n",
       "    </tr>\n",
       "  </tbody>\n",
       "</table>\n",
       "</div>"
      ],
      "text/plain": [
       "        Deaths             Date  \\\n",
       "0        20000      30 May 1626   \n",
       "1         3000   18 August 1769   \n",
       "2       3,000?  1 November 1948   \n",
       "3  1,400–2,280     6 March 1862   \n",
       "4         1950  6 December 1917   \n",
       "5         1500      8 June 1941   \n",
       "6   256–1,500+   September 1732   \n",
       "7       1,300+    7 August 1956   \n",
       "8         1200  16 October 1926   \n",
       "9         1121      8 June 1943   \n",
       "\n",
       "                                            Incident  \n",
       "0  Wanggongchang Explosion in Beijing, China in t...  \n",
       "1  A lightning bolt caused the Brescia explosion ...  \n",
       "2  Boiler and ammunition explosion aboard an unid...  \n",
       "3  Ammunition warehouse explodes and kills almost...  \n",
       "4       Halifax Explosion in Nova Scotia, Canada[68]  \n",
       "5  Ammunition plant with facilities explode at Sm...  \n",
       "6  Military warehouse explodes and kills up to tw...  \n",
       "7  Ammunition trucks explode near a railway stati...  \n",
       "8  Explosion of ammunition on the Chinese troopsh...  \n",
       "9  Japanese battleship Mutsu, at Hashirajima harb...  "
      ]
     },
     "execution_count": 89,
     "metadata": {},
     "output_type": "execute_result"
    }
   ],
   "source": [
    "explosions.head(10)"
   ]
  },
  {
   "cell_type": "code",
   "execution_count": 90,
   "metadata": {},
   "outputs": [
    {
     "data": {
      "text/plain": [
       "(369, 3)"
      ]
     },
     "execution_count": 90,
     "metadata": {},
     "output_type": "execute_result"
    }
   ],
   "source": [
    "explosions.shape"
   ]
  },
  {
   "cell_type": "code",
   "execution_count": 91,
   "metadata": {},
   "outputs": [
    {
     "name": "stdout",
     "output_type": "stream",
     "text": [
      "<class 'pandas.core.frame.DataFrame'>\n",
      "RangeIndex: 369 entries, 0 to 368\n",
      "Data columns (total 3 columns):\n",
      " #   Column    Non-Null Count  Dtype \n",
      "---  ------    --------------  ----- \n",
      " 0   Deaths    369 non-null    object\n",
      " 1   Date      369 non-null    object\n",
      " 2   Incident  369 non-null    object\n",
      "dtypes: object(3)\n",
      "memory usage: 8.8+ KB\n"
     ]
    }
   ],
   "source": [
    "explosions.info()"
   ]
  },
  {
   "cell_type": "markdown",
   "metadata": {},
   "source": [
    "## Data cleansing"
   ]
  },
  {
   "cell_type": "markdown",
   "metadata": {},
   "source": [
    "###  Set columns names according to row 1"
   ]
  },
  {
   "cell_type": "code",
   "execution_count": 5,
   "metadata": {},
   "outputs": [
    {
     "ename": "KeyError",
     "evalue": "0",
     "output_type": "error",
     "traceback": [
      "\u001b[0;31m---------------------------------------------------------------------------\u001b[0m",
      "\u001b[0;31mKeyError\u001b[0m                                  Traceback (most recent call last)",
      "\u001b[0;32m~/anaconda3/lib/python3.7/site-packages/pandas/core/indexes/base.py\u001b[0m in \u001b[0;36mget_loc\u001b[0;34m(self, key, method, tolerance)\u001b[0m\n\u001b[1;32m   2894\u001b[0m             \u001b[0;32mtry\u001b[0m\u001b[0;34m:\u001b[0m\u001b[0;34m\u001b[0m\u001b[0;34m\u001b[0m\u001b[0m\n\u001b[0;32m-> 2895\u001b[0;31m                 \u001b[0;32mreturn\u001b[0m \u001b[0mself\u001b[0m\u001b[0;34m.\u001b[0m\u001b[0m_engine\u001b[0m\u001b[0;34m.\u001b[0m\u001b[0mget_loc\u001b[0m\u001b[0;34m(\u001b[0m\u001b[0mcasted_key\u001b[0m\u001b[0;34m)\u001b[0m\u001b[0;34m\u001b[0m\u001b[0;34m\u001b[0m\u001b[0m\n\u001b[0m\u001b[1;32m   2896\u001b[0m             \u001b[0;32mexcept\u001b[0m \u001b[0mKeyError\u001b[0m \u001b[0;32mas\u001b[0m \u001b[0merr\u001b[0m\u001b[0;34m:\u001b[0m\u001b[0;34m\u001b[0m\u001b[0;34m\u001b[0m\u001b[0m\n",
      "\u001b[0;32mpandas/_libs/index.pyx\u001b[0m in \u001b[0;36mpandas._libs.index.IndexEngine.get_loc\u001b[0;34m()\u001b[0m\n",
      "\u001b[0;32mpandas/_libs/index.pyx\u001b[0m in \u001b[0;36mpandas._libs.index.IndexEngine.get_loc\u001b[0;34m()\u001b[0m\n",
      "\u001b[0;32mpandas/_libs/hashtable_class_helper.pxi\u001b[0m in \u001b[0;36mpandas._libs.hashtable.PyObjectHashTable.get_item\u001b[0;34m()\u001b[0m\n",
      "\u001b[0;32mpandas/_libs/hashtable_class_helper.pxi\u001b[0m in \u001b[0;36mpandas._libs.hashtable.PyObjectHashTable.get_item\u001b[0;34m()\u001b[0m\n",
      "\u001b[0;31mKeyError\u001b[0m: 0",
      "\nThe above exception was the direct cause of the following exception:\n",
      "\u001b[0;31mKeyError\u001b[0m                                  Traceback (most recent call last)",
      "\u001b[0;32m<ipython-input-5-75d6e6e1f709>\u001b[0m in \u001b[0;36m<module>\u001b[0;34m\u001b[0m\n\u001b[1;32m      3\u001b[0m \u001b[0mcolumns_list\u001b[0m \u001b[0;34m=\u001b[0m \u001b[0;34m[\u001b[0m\u001b[0;34m]\u001b[0m\u001b[0;34m\u001b[0m\u001b[0;34m\u001b[0m\u001b[0m\n\u001b[1;32m      4\u001b[0m \u001b[0;32mfor\u001b[0m \u001b[0mnum\u001b[0m \u001b[0;32min\u001b[0m \u001b[0mrange\u001b[0m\u001b[0;34m(\u001b[0m\u001b[0;36m0\u001b[0m\u001b[0;34m,\u001b[0m\u001b[0mexplosions\u001b[0m\u001b[0;34m.\u001b[0m\u001b[0mshape\u001b[0m\u001b[0;34m[\u001b[0m\u001b[0;36m1\u001b[0m\u001b[0;34m]\u001b[0m\u001b[0;34m)\u001b[0m\u001b[0;34m:\u001b[0m\u001b[0;34m\u001b[0m\u001b[0;34m\u001b[0m\u001b[0m\n\u001b[0;32m----> 5\u001b[0;31m     \u001b[0mcolumns_list\u001b[0m\u001b[0;34m.\u001b[0m\u001b[0mappend\u001b[0m\u001b[0;34m(\u001b[0m\u001b[0mexplosions\u001b[0m\u001b[0;34m[\u001b[0m\u001b[0mnum\u001b[0m\u001b[0;34m]\u001b[0m\u001b[0;34m[\u001b[0m\u001b[0;36m0\u001b[0m\u001b[0;34m]\u001b[0m\u001b[0;34m)\u001b[0m\u001b[0;34m\u001b[0m\u001b[0;34m\u001b[0m\u001b[0m\n\u001b[0m\u001b[1;32m      6\u001b[0m \u001b[0;34m\u001b[0m\u001b[0m\n\u001b[1;32m      7\u001b[0m \u001b[0mcolumns_list\u001b[0m\u001b[0;34m\u001b[0m\u001b[0;34m\u001b[0m\u001b[0m\n",
      "\u001b[0;32m~/anaconda3/lib/python3.7/site-packages/pandas/core/frame.py\u001b[0m in \u001b[0;36m__getitem__\u001b[0;34m(self, key)\u001b[0m\n\u001b[1;32m   2900\u001b[0m             \u001b[0;32mif\u001b[0m \u001b[0mself\u001b[0m\u001b[0;34m.\u001b[0m\u001b[0mcolumns\u001b[0m\u001b[0;34m.\u001b[0m\u001b[0mnlevels\u001b[0m \u001b[0;34m>\u001b[0m \u001b[0;36m1\u001b[0m\u001b[0;34m:\u001b[0m\u001b[0;34m\u001b[0m\u001b[0;34m\u001b[0m\u001b[0m\n\u001b[1;32m   2901\u001b[0m                 \u001b[0;32mreturn\u001b[0m \u001b[0mself\u001b[0m\u001b[0;34m.\u001b[0m\u001b[0m_getitem_multilevel\u001b[0m\u001b[0;34m(\u001b[0m\u001b[0mkey\u001b[0m\u001b[0;34m)\u001b[0m\u001b[0;34m\u001b[0m\u001b[0;34m\u001b[0m\u001b[0m\n\u001b[0;32m-> 2902\u001b[0;31m             \u001b[0mindexer\u001b[0m \u001b[0;34m=\u001b[0m \u001b[0mself\u001b[0m\u001b[0;34m.\u001b[0m\u001b[0mcolumns\u001b[0m\u001b[0;34m.\u001b[0m\u001b[0mget_loc\u001b[0m\u001b[0;34m(\u001b[0m\u001b[0mkey\u001b[0m\u001b[0;34m)\u001b[0m\u001b[0;34m\u001b[0m\u001b[0;34m\u001b[0m\u001b[0m\n\u001b[0m\u001b[1;32m   2903\u001b[0m             \u001b[0;32mif\u001b[0m \u001b[0mis_integer\u001b[0m\u001b[0;34m(\u001b[0m\u001b[0mindexer\u001b[0m\u001b[0;34m)\u001b[0m\u001b[0;34m:\u001b[0m\u001b[0;34m\u001b[0m\u001b[0;34m\u001b[0m\u001b[0m\n\u001b[1;32m   2904\u001b[0m                 \u001b[0mindexer\u001b[0m \u001b[0;34m=\u001b[0m \u001b[0;34m[\u001b[0m\u001b[0mindexer\u001b[0m\u001b[0;34m]\u001b[0m\u001b[0;34m\u001b[0m\u001b[0;34m\u001b[0m\u001b[0m\n",
      "\u001b[0;32m~/anaconda3/lib/python3.7/site-packages/pandas/core/indexes/base.py\u001b[0m in \u001b[0;36mget_loc\u001b[0;34m(self, key, method, tolerance)\u001b[0m\n\u001b[1;32m   2895\u001b[0m                 \u001b[0;32mreturn\u001b[0m \u001b[0mself\u001b[0m\u001b[0;34m.\u001b[0m\u001b[0m_engine\u001b[0m\u001b[0;34m.\u001b[0m\u001b[0mget_loc\u001b[0m\u001b[0;34m(\u001b[0m\u001b[0mcasted_key\u001b[0m\u001b[0;34m)\u001b[0m\u001b[0;34m\u001b[0m\u001b[0;34m\u001b[0m\u001b[0m\n\u001b[1;32m   2896\u001b[0m             \u001b[0;32mexcept\u001b[0m \u001b[0mKeyError\u001b[0m \u001b[0;32mas\u001b[0m \u001b[0merr\u001b[0m\u001b[0;34m:\u001b[0m\u001b[0;34m\u001b[0m\u001b[0;34m\u001b[0m\u001b[0m\n\u001b[0;32m-> 2897\u001b[0;31m                 \u001b[0;32mraise\u001b[0m \u001b[0mKeyError\u001b[0m\u001b[0;34m(\u001b[0m\u001b[0mkey\u001b[0m\u001b[0;34m)\u001b[0m \u001b[0;32mfrom\u001b[0m \u001b[0merr\u001b[0m\u001b[0;34m\u001b[0m\u001b[0;34m\u001b[0m\u001b[0m\n\u001b[0m\u001b[1;32m   2898\u001b[0m \u001b[0;34m\u001b[0m\u001b[0m\n\u001b[1;32m   2899\u001b[0m         \u001b[0;32mif\u001b[0m \u001b[0mtolerance\u001b[0m \u001b[0;32mis\u001b[0m \u001b[0;32mnot\u001b[0m \u001b[0;32mNone\u001b[0m\u001b[0;34m:\u001b[0m\u001b[0;34m\u001b[0m\u001b[0;34m\u001b[0m\u001b[0m\n",
      "\u001b[0;31mKeyError\u001b[0m: 0"
     ]
    }
   ],
   "source": [
    "columns_list = []\n",
    "for num in range(0,explosions.shape[1]):\n",
    "    columns_list.append(explosions[num][0])\n",
    "    \n",
    "columns_list"
   ]
  },
  {
   "cell_type": "code",
   "execution_count": null,
   "metadata": {},
   "outputs": [],
   "source": [
    "explosions.columns = columns_list\n",
    "explosions.drop(0,inplace=True)\n",
    "explosions.head()"
   ]
  },
  {
   "cell_type": "markdown",
   "metadata": {},
   "source": [
    "### Scrub 'Deaths' column data"
   ]
  },
  {
   "cell_type": "markdown",
   "metadata": {},
   "source": [
    "#### Values formatted as a range\n",
    "\n",
    "Since there are values that are shown as intervals, we will define 2 new columns \"Deaths_min\" and \"Deaths_max\" where we will extract the minimum and maximum range of them."
   ]
  },
  {
   "cell_type": "code",
   "execution_count": 92,
   "metadata": {},
   "outputs": [
    {
     "data": {
      "text/plain": [
       "'1,400'"
      ]
     },
     "execution_count": 92,
     "metadata": {},
     "output_type": "execute_result"
    }
   ],
   "source": [
    "## Function to extract the minimum range:\n",
    "\n",
    "def min_interval(value):\n",
    "    \n",
    "    if '–' in value:\n",
    "        return value[:value.find('–')]\n",
    "    elif ' or ' in value:\n",
    "        return value[:value.find(' or ')]\n",
    "    else:\n",
    "        return value\n",
    "\n",
    "min_interval('1,400–2,280')"
   ]
  },
  {
   "cell_type": "code",
   "execution_count": 93,
   "metadata": {},
   "outputs": [
    {
     "data": {
      "text/plain": [
       "'2,280'"
      ]
     },
     "execution_count": 93,
     "metadata": {},
     "output_type": "execute_result"
    }
   ],
   "source": [
    "## Function to extract the maximum range:\n",
    "\n",
    "def max_interval(value):\n",
    "    \n",
    "    if '–' in value:\n",
    "        return value[value.find('–')+1:]\n",
    "    elif ' or ' in value:\n",
    "        return value[value.find(' or ')+1:]\n",
    "    else:\n",
    "        return value\n",
    "\n",
    "max_interval('1,400–2,280')"
   ]
  },
  {
   "cell_type": "code",
   "execution_count": 94,
   "metadata": {},
   "outputs": [
    {
     "data": {
      "text/html": [
       "<div>\n",
       "<style scoped>\n",
       "    .dataframe tbody tr th:only-of-type {\n",
       "        vertical-align: middle;\n",
       "    }\n",
       "\n",
       "    .dataframe tbody tr th {\n",
       "        vertical-align: top;\n",
       "    }\n",
       "\n",
       "    .dataframe thead th {\n",
       "        text-align: right;\n",
       "    }\n",
       "</style>\n",
       "<table border=\"1\" class=\"dataframe\">\n",
       "  <thead>\n",
       "    <tr style=\"text-align: right;\">\n",
       "      <th></th>\n",
       "      <th>Deaths</th>\n",
       "      <th>Date</th>\n",
       "      <th>Incident</th>\n",
       "      <th>Deaths_min</th>\n",
       "      <th>Deaths_max</th>\n",
       "    </tr>\n",
       "  </thead>\n",
       "  <tbody>\n",
       "    <tr>\n",
       "      <th>238</th>\n",
       "      <td>16</td>\n",
       "      <td>24 February 1978</td>\n",
       "      <td>Waverly, Tennessee, tank car explosion, United...</td>\n",
       "      <td>16</td>\n",
       "      <td>16</td>\n",
       "    </tr>\n",
       "    <tr>\n",
       "      <th>17</th>\n",
       "      <td>700</td>\n",
       "      <td>17 August 1989</td>\n",
       "      <td>Iraqi military plant with facilities explode a...</td>\n",
       "      <td>700</td>\n",
       "      <td>700</td>\n",
       "    </tr>\n",
       "    <tr>\n",
       "      <th>324</th>\n",
       "      <td>8</td>\n",
       "      <td>9 September 2010</td>\n",
       "      <td>2010 San Bruno pipeline explosion, a natural g...</td>\n",
       "      <td>8</td>\n",
       "      <td>8</td>\n",
       "    </tr>\n",
       "    <tr>\n",
       "      <th>299</th>\n",
       "      <td>10</td>\n",
       "      <td>10 May 1962</td>\n",
       "      <td>Maumee Chemical Company plant explosion in Tol...</td>\n",
       "      <td>10</td>\n",
       "      <td>10</td>\n",
       "    </tr>\n",
       "    <tr>\n",
       "      <th>347</th>\n",
       "      <td>6</td>\n",
       "      <td>21 October 1980</td>\n",
       "      <td>Amoco chemical plant explosion in New Castle, ...</td>\n",
       "      <td>6</td>\n",
       "      <td>6</td>\n",
       "    </tr>\n",
       "    <tr>\n",
       "      <th>53</th>\n",
       "      <td>166</td>\n",
       "      <td>28 November 2004</td>\n",
       "      <td>Chenjiashan, Tongchuan, Shaanxi, China</td>\n",
       "      <td>166</td>\n",
       "      <td>166</td>\n",
       "    </tr>\n",
       "    <tr>\n",
       "      <th>271</th>\n",
       "      <td>12</td>\n",
       "      <td>21 November 1923</td>\n",
       "      <td>Vida Sugar refinery explosion in New Iberia, L...</td>\n",
       "      <td>12</td>\n",
       "      <td>12</td>\n",
       "    </tr>\n",
       "    <tr>\n",
       "      <th>131</th>\n",
       "      <td>50+</td>\n",
       "      <td>2 July 2019</td>\n",
       "      <td>Fuel tanker exploded after overturning in Benu...</td>\n",
       "      <td>50+</td>\n",
       "      <td>50+</td>\n",
       "    </tr>\n",
       "    <tr>\n",
       "      <th>341</th>\n",
       "      <td>6</td>\n",
       "      <td>11 February 1958</td>\n",
       "      <td>Reynolds Metals Company plant explosion in McC...</td>\n",
       "      <td>6</td>\n",
       "      <td>6</td>\n",
       "    </tr>\n",
       "    <tr>\n",
       "      <th>286</th>\n",
       "      <td>11</td>\n",
       "      <td>27 May 1983</td>\n",
       "      <td>Benton fireworks disaster at illegal fireworks...</td>\n",
       "      <td>11</td>\n",
       "      <td>11</td>\n",
       "    </tr>\n",
       "  </tbody>\n",
       "</table>\n",
       "</div>"
      ],
      "text/plain": [
       "    Deaths              Date  \\\n",
       "238     16  24 February 1978   \n",
       "17     700    17 August 1989   \n",
       "324      8  9 September 2010   \n",
       "299     10       10 May 1962   \n",
       "347      6   21 October 1980   \n",
       "53     166  28 November 2004   \n",
       "271     12  21 November 1923   \n",
       "131    50+       2 July 2019   \n",
       "341      6  11 February 1958   \n",
       "286     11       27 May 1983   \n",
       "\n",
       "                                              Incident Deaths_min Deaths_max  \n",
       "238  Waverly, Tennessee, tank car explosion, United...         16         16  \n",
       "17   Iraqi military plant with facilities explode a...        700        700  \n",
       "324  2010 San Bruno pipeline explosion, a natural g...          8          8  \n",
       "299  Maumee Chemical Company plant explosion in Tol...         10         10  \n",
       "347  Amoco chemical plant explosion in New Castle, ...          6          6  \n",
       "53              Chenjiashan, Tongchuan, Shaanxi, China        166        166  \n",
       "271  Vida Sugar refinery explosion in New Iberia, L...         12         12  \n",
       "131  Fuel tanker exploded after overturning in Benu...        50+        50+  \n",
       "341  Reynolds Metals Company plant explosion in McC...          6          6  \n",
       "286  Benton fireworks disaster at illegal fireworks...         11         11  "
      ]
     },
     "execution_count": 94,
     "metadata": {},
     "output_type": "execute_result"
    }
   ],
   "source": [
    "## New columns creation with the 2 functions:\n",
    "\n",
    "explosions['Deaths_min'] = explosions['Deaths'].apply(min_interval)\n",
    "explosions['Deaths_max'] = explosions['Deaths'].apply(max_interval)\n",
    "explosions.sample(10)"
   ]
  },
  {
   "cell_type": "markdown",
   "metadata": {},
   "source": [
    "#### Remove non-numeric characters:"
   ]
  },
  {
   "cell_type": "code",
   "execution_count": 95,
   "metadata": {},
   "outputs": [
    {
     "data": {
      "text/plain": [
       "'327'"
      ]
     },
     "execution_count": 95,
     "metadata": {},
     "output_type": "execute_result"
    }
   ],
   "source": [
    "# Function to remove non-numeric characters\n",
    "\n",
    "def erase_char(value):\n",
    "    result = \"\"\n",
    "    for char in value:\n",
    "        if char.isnumeric():\n",
    "            result += char\n",
    "    return result\n",
    "            \n",
    "erase_char(\"327(estimate)\")"
   ]
  },
  {
   "cell_type": "code",
   "execution_count": 96,
   "metadata": {},
   "outputs": [
    {
     "data": {
      "text/html": [
       "<div>\n",
       "<style scoped>\n",
       "    .dataframe tbody tr th:only-of-type {\n",
       "        vertical-align: middle;\n",
       "    }\n",
       "\n",
       "    .dataframe tbody tr th {\n",
       "        vertical-align: top;\n",
       "    }\n",
       "\n",
       "    .dataframe thead th {\n",
       "        text-align: right;\n",
       "    }\n",
       "</style>\n",
       "<table border=\"1\" class=\"dataframe\">\n",
       "  <thead>\n",
       "    <tr style=\"text-align: right;\">\n",
       "      <th></th>\n",
       "      <th>Deaths</th>\n",
       "      <th>Date</th>\n",
       "      <th>Incident</th>\n",
       "      <th>Deaths_min</th>\n",
       "      <th>Deaths_max</th>\n",
       "      <th>Deaths_min_clean</th>\n",
       "      <th>Deaths_max_clean</th>\n",
       "    </tr>\n",
       "  </thead>\n",
       "  <tbody>\n",
       "    <tr>\n",
       "      <th>131</th>\n",
       "      <td>50+</td>\n",
       "      <td>2 July 2019</td>\n",
       "      <td>Fuel tanker exploded after overturning in Benu...</td>\n",
       "      <td>50+</td>\n",
       "      <td>50+</td>\n",
       "      <td>50</td>\n",
       "      <td>50</td>\n",
       "    </tr>\n",
       "    <tr>\n",
       "      <th>242</th>\n",
       "      <td>15</td>\n",
       "      <td>14 June 1926</td>\n",
       "      <td>Illinois Steel Company coke oven explosion in ...</td>\n",
       "      <td>15</td>\n",
       "      <td>15</td>\n",
       "      <td>15</td>\n",
       "      <td>15</td>\n",
       "    </tr>\n",
       "    <tr>\n",
       "      <th>257</th>\n",
       "      <td>14</td>\n",
       "      <td>7 February 2008</td>\n",
       "      <td>2008 Georgia sugar refinery explosion (Port We...</td>\n",
       "      <td>14</td>\n",
       "      <td>14</td>\n",
       "      <td>14</td>\n",
       "      <td>14</td>\n",
       "    </tr>\n",
       "    <tr>\n",
       "      <th>26</th>\n",
       "      <td>372</td>\n",
       "      <td>11 December 1944</td>\n",
       "      <td>Ammunition ship USS Mount Hood exploded at See...</td>\n",
       "      <td>372</td>\n",
       "      <td>372</td>\n",
       "      <td>372</td>\n",
       "      <td>372</td>\n",
       "    </tr>\n",
       "    <tr>\n",
       "      <th>294</th>\n",
       "      <td>10</td>\n",
       "      <td>3 June 1942</td>\n",
       "      <td>Stockton Army Air Corps Advanced Flying School...</td>\n",
       "      <td>10</td>\n",
       "      <td>10</td>\n",
       "      <td>10</td>\n",
       "      <td>10</td>\n",
       "    </tr>\n",
       "    <tr>\n",
       "      <th>261</th>\n",
       "      <td>13</td>\n",
       "      <td>30 July 1947</td>\n",
       "      <td>Beauty parlor explosion in Harrisonburg, Virgi...</td>\n",
       "      <td>13</td>\n",
       "      <td>13</td>\n",
       "      <td>13</td>\n",
       "      <td>13</td>\n",
       "    </tr>\n",
       "    <tr>\n",
       "      <th>108</th>\n",
       "      <td>78</td>\n",
       "      <td>12 October 1978</td>\n",
       "      <td>Greek tanker Spyros exploded at Jurong shipyar...</td>\n",
       "      <td>78</td>\n",
       "      <td>78</td>\n",
       "      <td>78</td>\n",
       "      <td>78</td>\n",
       "    </tr>\n",
       "    <tr>\n",
       "      <th>13</th>\n",
       "      <td>1,000+</td>\n",
       "      <td>31 August 1794</td>\n",
       "      <td>Explosion of a gunpowder factory in Grenelle, ...</td>\n",
       "      <td>1,000+</td>\n",
       "      <td>1,000+</td>\n",
       "      <td>1000</td>\n",
       "      <td>1000</td>\n",
       "    </tr>\n",
       "    <tr>\n",
       "      <th>33</th>\n",
       "      <td>235+</td>\n",
       "      <td>29 December 2001</td>\n",
       "      <td>Fireworks stand explosion in Lima, Peru. 235 b...</td>\n",
       "      <td>235+</td>\n",
       "      <td>235+</td>\n",
       "      <td>235</td>\n",
       "      <td>235</td>\n",
       "    </tr>\n",
       "    <tr>\n",
       "      <th>104</th>\n",
       "      <td>90</td>\n",
       "      <td>24 June 2004</td>\n",
       "      <td>A truck carrying 3,800 gallons of gasoline wit...</td>\n",
       "      <td>90</td>\n",
       "      <td>90</td>\n",
       "      <td>90</td>\n",
       "      <td>90</td>\n",
       "    </tr>\n",
       "  </tbody>\n",
       "</table>\n",
       "</div>"
      ],
      "text/plain": [
       "     Deaths              Date  \\\n",
       "131     50+       2 July 2019   \n",
       "242      15      14 June 1926   \n",
       "257      14   7 February 2008   \n",
       "26      372  11 December 1944   \n",
       "294      10       3 June 1942   \n",
       "261      13      30 July 1947   \n",
       "108      78   12 October 1978   \n",
       "13   1,000+    31 August 1794   \n",
       "33     235+  29 December 2001   \n",
       "104      90      24 June 2004   \n",
       "\n",
       "                                              Incident Deaths_min Deaths_max  \\\n",
       "131  Fuel tanker exploded after overturning in Benu...        50+        50+   \n",
       "242  Illinois Steel Company coke oven explosion in ...         15         15   \n",
       "257  2008 Georgia sugar refinery explosion (Port We...         14         14   \n",
       "26   Ammunition ship USS Mount Hood exploded at See...        372        372   \n",
       "294  Stockton Army Air Corps Advanced Flying School...         10         10   \n",
       "261  Beauty parlor explosion in Harrisonburg, Virgi...         13         13   \n",
       "108  Greek tanker Spyros exploded at Jurong shipyar...         78         78   \n",
       "13   Explosion of a gunpowder factory in Grenelle, ...     1,000+     1,000+   \n",
       "33   Fireworks stand explosion in Lima, Peru. 235 b...       235+       235+   \n",
       "104  A truck carrying 3,800 gallons of gasoline wit...         90         90   \n",
       "\n",
       "     Deaths_min_clean  Deaths_max_clean  \n",
       "131                50                50  \n",
       "242                15                15  \n",
       "257                14                14  \n",
       "26                372               372  \n",
       "294                10                10  \n",
       "261                13                13  \n",
       "108                78                78  \n",
       "13               1000              1000  \n",
       "33                235               235  \n",
       "104                90                90  "
      ]
     },
     "execution_count": 96,
     "metadata": {},
     "output_type": "execute_result"
    }
   ],
   "source": [
    "## New columns creation with the function:\n",
    "\n",
    "explosions['Deaths_min_clean']=pd.to_numeric(explosions['Deaths_min'].apply(erase_char))\n",
    "explosions['Deaths_max_clean']=pd.to_numeric(explosions['Deaths_max'].apply(erase_char))\n",
    "explosions.sample(10)"
   ]
  },
  {
   "cell_type": "markdown",
   "metadata": {},
   "source": [
    "## Data analysis\n",
    "\n",
    "Our data are ready to work with them. For instance, let is calculate how many people died in accidental explosions per decade in the XX century."
   ]
  },
  {
   "cell_type": "markdown",
   "metadata": {},
   "source": [
    "### Create 'Century' and 'Decade' column from 'Date'"
   ]
  },
  {
   "cell_type": "code",
   "execution_count": 97,
   "metadata": {},
   "outputs": [],
   "source": [
    "explosions['Century'] = explosions['Date'].str[-4:-2]"
   ]
  },
  {
   "cell_type": "code",
   "execution_count": 98,
   "metadata": {},
   "outputs": [],
   "source": [
    "explosions['Decade'] = explosions['Date'].str[-2:-1]"
   ]
  },
  {
   "cell_type": "code",
   "execution_count": 99,
   "metadata": {},
   "outputs": [
    {
     "data": {
      "text/html": [
       "<div>\n",
       "<style scoped>\n",
       "    .dataframe tbody tr th:only-of-type {\n",
       "        vertical-align: middle;\n",
       "    }\n",
       "\n",
       "    .dataframe tbody tr th {\n",
       "        vertical-align: top;\n",
       "    }\n",
       "\n",
       "    .dataframe thead th {\n",
       "        text-align: right;\n",
       "    }\n",
       "</style>\n",
       "<table border=\"1\" class=\"dataframe\">\n",
       "  <thead>\n",
       "    <tr style=\"text-align: right;\">\n",
       "      <th></th>\n",
       "      <th>Deaths</th>\n",
       "      <th>Date</th>\n",
       "      <th>Incident</th>\n",
       "      <th>Deaths_min</th>\n",
       "      <th>Deaths_max</th>\n",
       "      <th>Deaths_min_clean</th>\n",
       "      <th>Deaths_max_clean</th>\n",
       "      <th>Century</th>\n",
       "      <th>Decade</th>\n",
       "    </tr>\n",
       "  </thead>\n",
       "  <tbody>\n",
       "    <tr>\n",
       "      <th>310</th>\n",
       "      <td>9</td>\n",
       "      <td>11 May 2004</td>\n",
       "      <td>Stockline Plastics factory explosion in Glasgo...</td>\n",
       "      <td>9</td>\n",
       "      <td>9</td>\n",
       "      <td>9</td>\n",
       "      <td>9</td>\n",
       "      <td>20</td>\n",
       "      <td>0</td>\n",
       "    </tr>\n",
       "    <tr>\n",
       "      <th>14</th>\n",
       "      <td>843</td>\n",
       "      <td>9 July 1917</td>\n",
       "      <td>Propellant explosion of the British dreadnough...</td>\n",
       "      <td>843</td>\n",
       "      <td>843</td>\n",
       "      <td>843</td>\n",
       "      <td>843</td>\n",
       "      <td>19</td>\n",
       "      <td>1</td>\n",
       "    </tr>\n",
       "    <tr>\n",
       "      <th>356</th>\n",
       "      <td>5</td>\n",
       "      <td>6 March 1955</td>\n",
       "      <td>Wieboldt's Bakery explosion in River Forest, I...</td>\n",
       "      <td>5</td>\n",
       "      <td>5</td>\n",
       "      <td>5</td>\n",
       "      <td>5</td>\n",
       "      <td>19</td>\n",
       "      <td>5</td>\n",
       "    </tr>\n",
       "    <tr>\n",
       "      <th>76</th>\n",
       "      <td>117</td>\n",
       "      <td>3 June 2010</td>\n",
       "      <td>Electrical transformer explosion in Dhaka, Ban...</td>\n",
       "      <td>117</td>\n",
       "      <td>117</td>\n",
       "      <td>117</td>\n",
       "      <td>117</td>\n",
       "      <td>20</td>\n",
       "      <td>1</td>\n",
       "    </tr>\n",
       "    <tr>\n",
       "      <th>152</th>\n",
       "      <td>41</td>\n",
       "      <td>6 April 1968</td>\n",
       "      <td>Richmond, Indiana explosion; more than 150 wer...</td>\n",
       "      <td>41</td>\n",
       "      <td>41</td>\n",
       "      <td>41</td>\n",
       "      <td>41</td>\n",
       "      <td>19</td>\n",
       "      <td>6</td>\n",
       "    </tr>\n",
       "  </tbody>\n",
       "</table>\n",
       "</div>"
      ],
      "text/plain": [
       "    Deaths          Date                                           Incident  \\\n",
       "310      9   11 May 2004  Stockline Plastics factory explosion in Glasgo...   \n",
       "14     843   9 July 1917  Propellant explosion of the British dreadnough...   \n",
       "356      5  6 March 1955  Wieboldt's Bakery explosion in River Forest, I...   \n",
       "76     117   3 June 2010  Electrical transformer explosion in Dhaka, Ban...   \n",
       "152     41  6 April 1968  Richmond, Indiana explosion; more than 150 wer...   \n",
       "\n",
       "    Deaths_min Deaths_max  Deaths_min_clean  Deaths_max_clean Century Decade  \n",
       "310          9          9                 9                 9      20      0  \n",
       "14         843        843               843               843      19      1  \n",
       "356          5          5                 5                 5      19      5  \n",
       "76         117        117               117               117      20      1  \n",
       "152         41         41                41                41      19      6  "
      ]
     },
     "execution_count": 99,
     "metadata": {},
     "output_type": "execute_result"
    }
   ],
   "source": [
    "explosions.sample(5)"
   ]
  },
  {
   "cell_type": "markdown",
   "metadata": {},
   "source": [
    "### Filter the 20th century and save the results into a new dataframe"
   ]
  },
  {
   "cell_type": "code",
   "execution_count": 100,
   "metadata": {},
   "outputs": [
    {
     "data": {
      "text/html": [
       "<div>\n",
       "<style scoped>\n",
       "    .dataframe tbody tr th:only-of-type {\n",
       "        vertical-align: middle;\n",
       "    }\n",
       "\n",
       "    .dataframe tbody tr th {\n",
       "        vertical-align: top;\n",
       "    }\n",
       "\n",
       "    .dataframe thead th {\n",
       "        text-align: right;\n",
       "    }\n",
       "</style>\n",
       "<table border=\"1\" class=\"dataframe\">\n",
       "  <thead>\n",
       "    <tr style=\"text-align: right;\">\n",
       "      <th></th>\n",
       "      <th>Deaths</th>\n",
       "      <th>Date</th>\n",
       "      <th>Incident</th>\n",
       "      <th>Deaths_min</th>\n",
       "      <th>Deaths_max</th>\n",
       "      <th>Deaths_min_clean</th>\n",
       "      <th>Deaths_max_clean</th>\n",
       "      <th>Century</th>\n",
       "      <th>Decade</th>\n",
       "    </tr>\n",
       "  </thead>\n",
       "  <tbody>\n",
       "    <tr>\n",
       "      <th>345</th>\n",
       "      <td>6</td>\n",
       "      <td>22 February 1976</td>\n",
       "      <td>Goodpasture grain elevator explosion in Galena...</td>\n",
       "      <td>6</td>\n",
       "      <td>6</td>\n",
       "      <td>6</td>\n",
       "      <td>6</td>\n",
       "      <td>19</td>\n",
       "      <td>7</td>\n",
       "    </tr>\n",
       "    <tr>\n",
       "      <th>222</th>\n",
       "      <td>19</td>\n",
       "      <td>9 May 1930</td>\n",
       "      <td>Armour meat processing plant explosion in St. ...</td>\n",
       "      <td>19</td>\n",
       "      <td>19</td>\n",
       "      <td>19</td>\n",
       "      <td>19</td>\n",
       "      <td>19</td>\n",
       "      <td>3</td>\n",
       "    </tr>\n",
       "    <tr>\n",
       "      <th>314</th>\n",
       "      <td>8</td>\n",
       "      <td>1 May 1942</td>\n",
       "      <td>Central Railways Signal Company explosion in V...</td>\n",
       "      <td>8</td>\n",
       "      <td>8</td>\n",
       "      <td>8</td>\n",
       "      <td>8</td>\n",
       "      <td>19</td>\n",
       "      <td>4</td>\n",
       "    </tr>\n",
       "    <tr>\n",
       "      <th>159</th>\n",
       "      <td>37</td>\n",
       "      <td>13 April 1928</td>\n",
       "      <td>Dance Hall explosion in West Plains, Missouri,...</td>\n",
       "      <td>37</td>\n",
       "      <td>37</td>\n",
       "      <td>37</td>\n",
       "      <td>37</td>\n",
       "      <td>19</td>\n",
       "      <td>2</td>\n",
       "    </tr>\n",
       "    <tr>\n",
       "      <th>289</th>\n",
       "      <td>10+</td>\n",
       "      <td>9 October 1927</td>\n",
       "      <td>Kimberly Clark mill explosion in Kimberly, Wis...</td>\n",
       "      <td>10+</td>\n",
       "      <td>10+</td>\n",
       "      <td>10</td>\n",
       "      <td>10</td>\n",
       "      <td>19</td>\n",
       "      <td>2</td>\n",
       "    </tr>\n",
       "  </tbody>\n",
       "</table>\n",
       "</div>"
      ],
      "text/plain": [
       "    Deaths              Date  \\\n",
       "345      6  22 February 1976   \n",
       "222     19        9 May 1930   \n",
       "314      8        1 May 1942   \n",
       "159     37     13 April 1928   \n",
       "289    10+    9 October 1927   \n",
       "\n",
       "                                              Incident Deaths_min Deaths_max  \\\n",
       "345  Goodpasture grain elevator explosion in Galena...          6          6   \n",
       "222  Armour meat processing plant explosion in St. ...         19         19   \n",
       "314  Central Railways Signal Company explosion in V...          8          8   \n",
       "159  Dance Hall explosion in West Plains, Missouri,...         37         37   \n",
       "289  Kimberly Clark mill explosion in Kimberly, Wis...        10+        10+   \n",
       "\n",
       "     Deaths_min_clean  Deaths_max_clean Century Decade  \n",
       "345                 6                 6      19      7  \n",
       "222                19                19      19      3  \n",
       "314                 8                 8      19      4  \n",
       "159                37                37      19      2  \n",
       "289                10                10      19      2  "
      ]
     },
     "execution_count": 100,
     "metadata": {},
     "output_type": "execute_result"
    }
   ],
   "source": [
    "twenty_century = explosions[explosions['Century']=='19']\n",
    "twenty_century.sample(5)\n"
   ]
  },
  {
   "cell_type": "code",
   "execution_count": 101,
   "metadata": {},
   "outputs": [
    {
     "data": {
      "text/plain": [
       "(275, 9)"
      ]
     },
     "execution_count": 101,
     "metadata": {},
     "output_type": "execute_result"
    }
   ],
   "source": [
    "twenty_century.shape\n"
   ]
  },
  {
   "cell_type": "markdown",
   "metadata": {},
   "source": [
    "### Group by 'Decades' and add the number of deaths for each of them"
   ]
  },
  {
   "cell_type": "code",
   "execution_count": 102,
   "metadata": {
    "scrolled": true
   },
   "outputs": [
    {
     "data": {
      "text/html": [
       "<div>\n",
       "<style scoped>\n",
       "    .dataframe tbody tr th:only-of-type {\n",
       "        vertical-align: middle;\n",
       "    }\n",
       "\n",
       "    .dataframe tbody tr th {\n",
       "        vertical-align: top;\n",
       "    }\n",
       "\n",
       "    .dataframe thead th {\n",
       "        text-align: right;\n",
       "    }\n",
       "</style>\n",
       "<table border=\"1\" class=\"dataframe\">\n",
       "  <thead>\n",
       "    <tr style=\"text-align: right;\">\n",
       "      <th></th>\n",
       "      <th>Deaths_min_clean</th>\n",
       "      <th>Deaths_max_clean</th>\n",
       "    </tr>\n",
       "    <tr>\n",
       "      <th>Decade</th>\n",
       "      <th></th>\n",
       "      <th></th>\n",
       "    </tr>\n",
       "  </thead>\n",
       "  <tbody>\n",
       "    <tr>\n",
       "      <th>0</th>\n",
       "      <td>1247</td>\n",
       "      <td>1247</td>\n",
       "    </tr>\n",
       "    <tr>\n",
       "      <th>1</th>\n",
       "      <td>6142</td>\n",
       "      <td>6142</td>\n",
       "    </tr>\n",
       "    <tr>\n",
       "      <th>2</th>\n",
       "      <td>2866</td>\n",
       "      <td>2866</td>\n",
       "    </tr>\n",
       "    <tr>\n",
       "      <th>3</th>\n",
       "      <td>1001</td>\n",
       "      <td>1001</td>\n",
       "    </tr>\n",
       "    <tr>\n",
       "      <th>4</th>\n",
       "      <td>11366</td>\n",
       "      <td>11366</td>\n",
       "    </tr>\n",
       "    <tr>\n",
       "      <th>5</th>\n",
       "      <td>1750</td>\n",
       "      <td>1750</td>\n",
       "    </tr>\n",
       "    <tr>\n",
       "      <th>6</th>\n",
       "      <td>477</td>\n",
       "      <td>477</td>\n",
       "    </tr>\n",
       "    <tr>\n",
       "      <th>7</th>\n",
       "      <td>871</td>\n",
       "      <td>872</td>\n",
       "    </tr>\n",
       "    <tr>\n",
       "      <th>8</th>\n",
       "      <td>2972</td>\n",
       "      <td>2972</td>\n",
       "    </tr>\n",
       "    <tr>\n",
       "      <th>9</th>\n",
       "      <td>2871</td>\n",
       "      <td>2871</td>\n",
       "    </tr>\n",
       "  </tbody>\n",
       "</table>\n",
       "</div>"
      ],
      "text/plain": [
       "        Deaths_min_clean  Deaths_max_clean\n",
       "Decade                                    \n",
       "0                   1247              1247\n",
       "1                   6142              6142\n",
       "2                   2866              2866\n",
       "3                   1001              1001\n",
       "4                  11366             11366\n",
       "5                   1750              1750\n",
       "6                    477               477\n",
       "7                    871               872\n",
       "8                   2972              2972\n",
       "9                   2871              2871"
      ]
     },
     "execution_count": 102,
     "metadata": {},
     "output_type": "execute_result"
    }
   ],
   "source": [
    "deaths_per_decade_XX = twenty_century.groupby(twenty_century['Decade'].str[0])[['Deaths_min_clean','Deaths_max_clean']].sum()\n",
    "deaths_per_decade_XX"
   ]
  },
  {
   "cell_type": "markdown",
   "metadata": {},
   "source": [
    "### Plot results"
   ]
  },
  {
   "cell_type": "code",
   "execution_count": 103,
   "metadata": {},
   "outputs": [
    {
     "data": {
      "text/plain": [
       "<matplotlib.axes._subplots.AxesSubplot at 0x7f92daf50b90>"
      ]
     },
     "execution_count": 103,
     "metadata": {},
     "output_type": "execute_result"
    },
    {
     "data": {
      "image/png": "[encoded data removed]",
      "text/plain": [
       "<Figure size 432x288 with 1 Axes>"
      ]
     },
     "metadata": {
      "needs_background": "light"
     },
     "output_type": "display_data"
    }
   ],
   "source": [
    "deaths_per_decade_XX.plot()"
   ]
  },
  {
   "cell_type": "markdown",
   "metadata": {},
   "source": [
    "# THANK YOUR FOR FOLLOWING\n",
    "\n",
    "If you have any question, do not hesitate to contact me on Linkedin: https://www.linkedin.com/in/laurajmoreno/"
   ]
  }
 ],
 "metadata": {
  "kernelspec": {
   "display_name": "Python 3",
   "language": "python",
   "name": "python3"
  },
  "language_info": {
   "codemirror_mode": {
    "name": "ipython",
    "version": 3
   },
   "file_extension": ".py",
   "mimetype": "text/x-python",
   "name": "python",
   "nbconvert_exporter": "python",
   "pygments_lexer": "ipython3",
   "version": "3.7.8"
  }
 },
 "nbformat": 4,
 "nbformat_minor": 2
}
