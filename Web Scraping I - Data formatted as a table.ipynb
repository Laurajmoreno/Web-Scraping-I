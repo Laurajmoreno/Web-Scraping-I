{
 "cells": [
  {
   "cell_type": "markdown",
   "metadata": {},
   "source": [
    "# Web Scraping I - Data formatted as a table\n",
    "\n",
    "## Brief\n",
    "\n",
    "Web Scraping allows us to extract data available on web sites.\n",
    "Technically, it consists of reading and parsing the html code and then extracting the elements that are valuable to us. Basically, we transform the html input into an appropriate data structure to be processed.\n",
    "One of the easiest cases and the one that we will deal with in this practice is the data already formatted as tables.\n",
    "As an example, we will use the 'List of accidents and disasters by death toll' from Wikipedia and more specifically the table related to explosions. Clarification: This list does not include bombings, aviation incidents, or mining disasters.\n",
    "Link: https://en.wikipedia.org/wiki/List_of_accidents_and_disasters_by_death_toll"
   ]
  },
  {
   "cell_type": "markdown",
   "metadata": {},
   "source": [
    "## Import libraries"
   ]
  },
  {
   "cell_type": "code",
   "execution_count": null,
   "metadata": {},
   "outputs": [],
   "source": [
    "import pandas as pd\n",
    "import numpy as np\n",
    "import matplotlib.pyplot as plt\n",
    "plt.style.use('seaborn')\n",
    "%matplotlib inline"
   ]
  },
  {
   "cell_type": "markdown",
   "metadata": {},
   "source": [
    "## Import  and loading data"
   ]
  },
  {
   "cell_type": "code",
   "execution_count": null,
   "metadata": {},
   "outputs": [],
   "source": [
    "tables = pd.read_html(\"https://en.wikipedia.org/wiki/List_of_accidents_and_disasters_by_death_toll\")\n",
    "explosions = tables[4]"
   ]
  },
  {
   "cell_type": "markdown",
   "metadata": {},
   "source": [
    "## Data overview"
   ]
  },
  {
   "cell_type": "code",
   "execution_count": null,
   "metadata": {},
   "outputs": [],
   "source": [
    "explosions.head(10)"
   ]
  },
  {
   "cell_type": "code",
   "execution_count": null,
   "metadata": {},
   "outputs": [],
   "source": [
    "explosions.shape"
   ]
  },
  {
   "cell_type": "code",
   "execution_count": null,
   "metadata": {},
   "outputs": [],
   "source": [
    "explosions.info()"
   ]
  },
  {
   "cell_type": "markdown",
   "metadata": {},
   "source": [
    "## Data cleansing"
   ]
  },
  {
   "cell_type": "markdown",
   "metadata": {},
   "source": [
    "###  Set columns names according to row 1 (if necessary)"
   ]
  },
  {
   "cell_type": "code",
   "execution_count": null,
   "metadata": {},
   "outputs": [],
   "source": [
    "columns_list = []\n",
    "for num in range(0,explosions.shape[1]):\n",
    "    columns_list.append(explosions[num][0])\n",
    "    \n",
    "columns_list"
   ]
  },
  {
   "cell_type": "code",
   "execution_count": null,
   "metadata": {},
   "outputs": [],
   "source": [
    "explosions.columns = columns_list\n",
    "explosions.drop(0,inplace=True)\n",
    "explosions.head()"
   ]
  },
  {
   "cell_type": "markdown",
   "metadata": {},
   "source": [
    "### Scrub 'Deaths' column data"
   ]
  },
  {
   "cell_type": "markdown",
   "metadata": {},
   "source": [
    "#### Values formatted as a range\n",
    "\n",
    "Since there are values that are shown as intervals, we will define 2 new columns \"Deaths_min\" and \"Deaths_max\" where we will extract the minimum and maximum range of them."
   ]
  },
  {
   "cell_type": "code",
   "execution_count": null,
   "metadata": {},
   "outputs": [],
   "source": [
    "## Function to extract the minimum range:\n",
    "\n",
    "def min_interval(value):\n",
    "    \n",
    "    if '–' in value:\n",
    "        return value[:value.find('–')]\n",
    "    elif ' or ' in value:\n",
    "        return value[:value.find(' or ')]\n",
    "    else:\n",
    "        return value\n",
    "\n",
    "min_interval('1,400–2,280')"
   ]
  },
  {
   "cell_type": "code",
   "execution_count": null,
   "metadata": {},
   "outputs": [],
   "source": [
    "## Function to extract the maximum range:\n",
    "\n",
    "def max_interval(value):\n",
    "    \n",
    "    if '–' in value:\n",
    "        return value[value.find('–')+1:]\n",
    "    elif ' or ' in value:\n",
    "        return value[value.find(' or ')+1:]\n",
    "    else:\n",
    "        return value\n",
    "\n",
    "max_interval('1,400–2,280')"
   ]
  },
  {
   "cell_type": "code",
   "execution_count": null,
   "metadata": {},
   "outputs": [],
   "source": [
    "## New columns creation with the 2 functions:\n",
    "\n",
    "explosions['Deaths_min'] = explosions['Deaths'].apply(min_interval)\n",
    "explosions['Deaths_max'] = explosions['Deaths'].apply(max_interval)\n",
    "explosions.sample(10)"
   ]
  },
  {
   "cell_type": "markdown",
   "metadata": {},
   "source": [
    "#### Remove non-numeric characters:"
   ]
  },
  {
   "cell_type": "code",
   "execution_count": null,
   "metadata": {},
   "outputs": [],
   "source": [
    "# Function to remove non-numeric characters\n",
    "\n",
    "def erase_char(value):\n",
    "    result = \"\"\n",
    "    for char in value:\n",
    "        if char.isnumeric():\n",
    "            result += char\n",
    "    return result\n",
    "            \n",
    "erase_char(\"327(estimate)\")"
   ]
  },
  {
   "cell_type": "code",
   "execution_count": null,
   "metadata": {},
   "outputs": [],
   "source": [
    "## New columns creation with the function:\n",
    "\n",
    "explosions['Deaths_min_clean']=pd.to_numeric(explosions['Deaths_min'].apply(erase_char))\n",
    "explosions['Deaths_max_clean']=pd.to_numeric(explosions['Deaths_max'].apply(erase_char))\n",
    "explosions.sample(10)"
   ]
  },
  {
   "cell_type": "markdown",
   "metadata": {},
   "source": [
    "## Data analysis\n",
    "\n",
    "Our data are ready to work with them. For instance, let is calculate how many people died in accidental explosions per decade in the XX century."
   ]
  },
  {
   "cell_type": "markdown",
   "metadata": {},
   "source": [
    "### Create 'Century' and 'Decade' column from 'Date'"
   ]
  },
  {
   "cell_type": "code",
   "execution_count": null,
   "metadata": {},
   "outputs": [],
   "source": [
    "explosions['Century'] = explosions['Date'].str[-4:-2]"
   ]
  },
  {
   "cell_type": "code",
   "execution_count": null,
   "metadata": {},
   "outputs": [],
   "source": [
    "explosions['Decade'] = explosions['Date'].str[-2:-1]"
   ]
  },
  {
   "cell_type": "code",
   "execution_count": null,
   "metadata": {},
   "outputs": [],
   "source": [
    "explosions.sample(5)"
   ]
  },
  {
   "cell_type": "markdown",
   "metadata": {},
   "source": [
    "### Filter the 20th century and save the results into a new dataframe"
   ]
  },
  {
   "cell_type": "code",
   "execution_count": null,
   "metadata": {},
   "outputs": [],
   "source": [
    "twenty_century = explosions[explosions['Century']=='19']\n",
    "twenty_century.sample(5)\n"
   ]
  },
  {
   "cell_type": "code",
   "execution_count": null,
   "metadata": {},
   "outputs": [],
   "source": [
    "twenty_century.shape\n"
   ]
  },
  {
   "cell_type": "markdown",
   "metadata": {},
   "source": [
    "### Group by 'Decades' and add the number of deaths for each of them"
   ]
  },
  {
   "cell_type": "code",
   "execution_count": null,
   "metadata": {
    "scrolled": true
   },
   "outputs": [],
   "source": [
    "deaths_per_decade_XX = twenty_century.groupby(twenty_century['Decade'].str[0])[['Deaths_min_clean','Deaths_max_clean']].sum()\n",
    "deaths_per_decade_XX"
   ]
  },
  {
   "cell_type": "markdown",
   "metadata": {},
   "source": [
    "### Plot results"
   ]
  },
  {
   "cell_type": "code",
   "execution_count": null,
   "metadata": {},
   "outputs": [],
   "source": [
    "deaths_per_decade_XX.plot()"
   ]
  },
  {
   "cell_type": "markdown",
   "metadata": {},
   "source": [
    "# THANK YOUR FOR FOLLOWING\n",
    "\n",
    "If you have any question, do not hesitate to contact me on Linkedin: https://www.linkedin.com/in/laurajmoreno/"
   ]
  }
 ],
 "metadata": {
  "kernelspec": {
   "display_name": "Python 3",
   "language": "python",
   "name": "python3"
  },
  "language_info": {
   "codemirror_mode": {
    "name": "ipython",
    "version": 3
   },
   "file_extension": ".py",
   "mimetype": "text/x-python",
   "name": "python",
   "nbconvert_exporter": "python",
   "pygments_lexer": "ipython3",
   "version": "3.7.8"
  }
 },
 "nbformat": 4,
 "nbformat_minor": 2
}
